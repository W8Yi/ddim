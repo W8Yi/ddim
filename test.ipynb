{
 "cells": [
  {
   "cell_type": "code",
   "execution_count": 64,
   "metadata": {},
   "outputs": [
    {
     "data": {
      "text/plain": [
       "<torch._C.Generator at 0x7f6e48046a30>"
      ]
     },
     "execution_count": 64,
     "metadata": {},
     "output_type": "execute_result"
    }
   ],
   "source": [
    "from models.diffusion import Model\n",
    "from main import dict2namespace\n",
    "import numpy as np\n",
    "import yaml\n",
    "import torch \n",
    "import matplotlib.pyplot as plt\n",
    "\n",
    "device = torch.device(\"cuda\" if torch.cuda.is_available() else \"cpu\")\n",
    "torch.manual_seed(0)\n"
   ]
  },
  {
   "cell_type": "code",
   "execution_count": 69,
   "metadata": {},
   "outputs": [],
   "source": [
    "config = yaml.safe_load(open(\"configs/celeba.yml\", \"r\"))\n",
    "config = dict2namespace(config)\n",
    "model = Model(config)"
   ]
  },
  {
   "cell_type": "code",
   "execution_count": 70,
   "metadata": {},
   "outputs": [
    {
     "data": {
      "text/plain": [
       "Model(\n",
       "  (temb): Module(\n",
       "    (dense): ModuleList(\n",
       "      (0): Linear(in_features=128, out_features=512, bias=True)\n",
       "      (1): Linear(in_features=512, out_features=512, bias=True)\n",
       "    )\n",
       "  )\n",
       "  (conv_in): Conv2d(3, 128, kernel_size=(3, 3), stride=(1, 1), padding=(1, 1))\n",
       "  (down): ModuleList(\n",
       "    (0): Module(\n",
       "      (block): ModuleList(\n",
       "        (0-1): 2 x ResnetBlock(\n",
       "          (norm1): GroupNorm(32, 128, eps=1e-06, affine=True)\n",
       "          (conv1): Conv2d(128, 128, kernel_size=(3, 3), stride=(1, 1), padding=(1, 1))\n",
       "          (temb_proj): Linear(in_features=512, out_features=128, bias=True)\n",
       "          (norm2): GroupNorm(32, 128, eps=1e-06, affine=True)\n",
       "          (dropout): Dropout(p=0.1, inplace=False)\n",
       "          (conv2): Conv2d(128, 128, kernel_size=(3, 3), stride=(1, 1), padding=(1, 1))\n",
       "        )\n",
       "      )\n",
       "      (attn): ModuleList()\n",
       "      (downsample): Downsample(\n",
       "        (conv): Conv2d(128, 128, kernel_size=(3, 3), stride=(2, 2))\n",
       "      )\n",
       "    )\n",
       "    (1): Module(\n",
       "      (block): ModuleList(\n",
       "        (0): ResnetBlock(\n",
       "          (norm1): GroupNorm(32, 128, eps=1e-06, affine=True)\n",
       "          (conv1): Conv2d(128, 256, kernel_size=(3, 3), stride=(1, 1), padding=(1, 1))\n",
       "          (temb_proj): Linear(in_features=512, out_features=256, bias=True)\n",
       "          (norm2): GroupNorm(32, 256, eps=1e-06, affine=True)\n",
       "          (dropout): Dropout(p=0.1, inplace=False)\n",
       "          (conv2): Conv2d(256, 256, kernel_size=(3, 3), stride=(1, 1), padding=(1, 1))\n",
       "          (nin_shortcut): Conv2d(128, 256, kernel_size=(1, 1), stride=(1, 1))\n",
       "        )\n",
       "        (1): ResnetBlock(\n",
       "          (norm1): GroupNorm(32, 256, eps=1e-06, affine=True)\n",
       "          (conv1): Conv2d(256, 256, kernel_size=(3, 3), stride=(1, 1), padding=(1, 1))\n",
       "          (temb_proj): Linear(in_features=512, out_features=256, bias=True)\n",
       "          (norm2): GroupNorm(32, 256, eps=1e-06, affine=True)\n",
       "          (dropout): Dropout(p=0.1, inplace=False)\n",
       "          (conv2): Conv2d(256, 256, kernel_size=(3, 3), stride=(1, 1), padding=(1, 1))\n",
       "        )\n",
       "      )\n",
       "      (attn): ModuleList()\n",
       "      (downsample): Downsample(\n",
       "        (conv): Conv2d(256, 256, kernel_size=(3, 3), stride=(2, 2))\n",
       "      )\n",
       "    )\n",
       "    (2): Module(\n",
       "      (block): ModuleList(\n",
       "        (0-1): 2 x ResnetBlock(\n",
       "          (norm1): GroupNorm(32, 256, eps=1e-06, affine=True)\n",
       "          (conv1): Conv2d(256, 256, kernel_size=(3, 3), stride=(1, 1), padding=(1, 1))\n",
       "          (temb_proj): Linear(in_features=512, out_features=256, bias=True)\n",
       "          (norm2): GroupNorm(32, 256, eps=1e-06, affine=True)\n",
       "          (dropout): Dropout(p=0.1, inplace=False)\n",
       "          (conv2): Conv2d(256, 256, kernel_size=(3, 3), stride=(1, 1), padding=(1, 1))\n",
       "        )\n",
       "      )\n",
       "      (attn): ModuleList(\n",
       "        (0-1): 2 x AttnBlock(\n",
       "          (norm): GroupNorm(32, 256, eps=1e-06, affine=True)\n",
       "          (q): Conv2d(256, 256, kernel_size=(1, 1), stride=(1, 1))\n",
       "          (k): Conv2d(256, 256, kernel_size=(1, 1), stride=(1, 1))\n",
       "          (v): Conv2d(256, 256, kernel_size=(1, 1), stride=(1, 1))\n",
       "          (proj_out): Conv2d(256, 256, kernel_size=(1, 1), stride=(1, 1))\n",
       "        )\n",
       "      )\n",
       "      (downsample): Downsample(\n",
       "        (conv): Conv2d(256, 256, kernel_size=(3, 3), stride=(2, 2))\n",
       "      )\n",
       "    )\n",
       "    (3): Module(\n",
       "      (block): ModuleList(\n",
       "        (0-1): 2 x ResnetBlock(\n",
       "          (norm1): GroupNorm(32, 256, eps=1e-06, affine=True)\n",
       "          (conv1): Conv2d(256, 256, kernel_size=(3, 3), stride=(1, 1), padding=(1, 1))\n",
       "          (temb_proj): Linear(in_features=512, out_features=256, bias=True)\n",
       "          (norm2): GroupNorm(32, 256, eps=1e-06, affine=True)\n",
       "          (dropout): Dropout(p=0.1, inplace=False)\n",
       "          (conv2): Conv2d(256, 256, kernel_size=(3, 3), stride=(1, 1), padding=(1, 1))\n",
       "        )\n",
       "      )\n",
       "      (attn): ModuleList()\n",
       "      (downsample): Downsample(\n",
       "        (conv): Conv2d(256, 256, kernel_size=(3, 3), stride=(2, 2))\n",
       "      )\n",
       "    )\n",
       "    (4): Module(\n",
       "      (block): ModuleList(\n",
       "        (0): ResnetBlock(\n",
       "          (norm1): GroupNorm(32, 256, eps=1e-06, affine=True)\n",
       "          (conv1): Conv2d(256, 512, kernel_size=(3, 3), stride=(1, 1), padding=(1, 1))\n",
       "          (temb_proj): Linear(in_features=512, out_features=512, bias=True)\n",
       "          (norm2): GroupNorm(32, 512, eps=1e-06, affine=True)\n",
       "          (dropout): Dropout(p=0.1, inplace=False)\n",
       "          (conv2): Conv2d(512, 512, kernel_size=(3, 3), stride=(1, 1), padding=(1, 1))\n",
       "          (nin_shortcut): Conv2d(256, 512, kernel_size=(1, 1), stride=(1, 1))\n",
       "        )\n",
       "        (1): ResnetBlock(\n",
       "          (norm1): GroupNorm(32, 512, eps=1e-06, affine=True)\n",
       "          (conv1): Conv2d(512, 512, kernel_size=(3, 3), stride=(1, 1), padding=(1, 1))\n",
       "          (temb_proj): Linear(in_features=512, out_features=512, bias=True)\n",
       "          (norm2): GroupNorm(32, 512, eps=1e-06, affine=True)\n",
       "          (dropout): Dropout(p=0.1, inplace=False)\n",
       "          (conv2): Conv2d(512, 512, kernel_size=(3, 3), stride=(1, 1), padding=(1, 1))\n",
       "        )\n",
       "      )\n",
       "      (attn): ModuleList()\n",
       "    )\n",
       "  )\n",
       "  (mid): Module(\n",
       "    (block_1): ResnetBlock(\n",
       "      (norm1): GroupNorm(32, 512, eps=1e-06, affine=True)\n",
       "      (conv1): Conv2d(512, 512, kernel_size=(3, 3), stride=(1, 1), padding=(1, 1))\n",
       "      (temb_proj): Linear(in_features=512, out_features=512, bias=True)\n",
       "      (norm2): GroupNorm(32, 512, eps=1e-06, affine=True)\n",
       "      (dropout): Dropout(p=0.1, inplace=False)\n",
       "      (conv2): Conv2d(512, 512, kernel_size=(3, 3), stride=(1, 1), padding=(1, 1))\n",
       "    )\n",
       "    (attn_1): AttnBlock(\n",
       "      (norm): GroupNorm(32, 512, eps=1e-06, affine=True)\n",
       "      (q): Conv2d(512, 512, kernel_size=(1, 1), stride=(1, 1))\n",
       "      (k): Conv2d(512, 512, kernel_size=(1, 1), stride=(1, 1))\n",
       "      (v): Conv2d(512, 512, kernel_size=(1, 1), stride=(1, 1))\n",
       "      (proj_out): Conv2d(512, 512, kernel_size=(1, 1), stride=(1, 1))\n",
       "    )\n",
       "    (block_2): ResnetBlock(\n",
       "      (norm1): GroupNorm(32, 512, eps=1e-06, affine=True)\n",
       "      (conv1): Conv2d(512, 512, kernel_size=(3, 3), stride=(1, 1), padding=(1, 1))\n",
       "      (temb_proj): Linear(in_features=512, out_features=512, bias=True)\n",
       "      (norm2): GroupNorm(32, 512, eps=1e-06, affine=True)\n",
       "      (dropout): Dropout(p=0.1, inplace=False)\n",
       "      (conv2): Conv2d(512, 512, kernel_size=(3, 3), stride=(1, 1), padding=(1, 1))\n",
       "    )\n",
       "  )\n",
       "  (up): ModuleList(\n",
       "    (0): Module(\n",
       "      (block): ModuleList(\n",
       "        (0): ResnetBlock(\n",
       "          (norm1): GroupNorm(32, 384, eps=1e-06, affine=True)\n",
       "          (conv1): Conv2d(384, 128, kernel_size=(3, 3), stride=(1, 1), padding=(1, 1))\n",
       "          (temb_proj): Linear(in_features=512, out_features=128, bias=True)\n",
       "          (norm2): GroupNorm(32, 128, eps=1e-06, affine=True)\n",
       "          (dropout): Dropout(p=0.1, inplace=False)\n",
       "          (conv2): Conv2d(128, 128, kernel_size=(3, 3), stride=(1, 1), padding=(1, 1))\n",
       "          (nin_shortcut): Conv2d(384, 128, kernel_size=(1, 1), stride=(1, 1))\n",
       "        )\n",
       "        (1-2): 2 x ResnetBlock(\n",
       "          (norm1): GroupNorm(32, 256, eps=1e-06, affine=True)\n",
       "          (conv1): Conv2d(256, 128, kernel_size=(3, 3), stride=(1, 1), padding=(1, 1))\n",
       "          (temb_proj): Linear(in_features=512, out_features=128, bias=True)\n",
       "          (norm2): GroupNorm(32, 128, eps=1e-06, affine=True)\n",
       "          (dropout): Dropout(p=0.1, inplace=False)\n",
       "          (conv2): Conv2d(128, 128, kernel_size=(3, 3), stride=(1, 1), padding=(1, 1))\n",
       "          (nin_shortcut): Conv2d(256, 128, kernel_size=(1, 1), stride=(1, 1))\n",
       "        )\n",
       "      )\n",
       "      (attn): ModuleList()\n",
       "    )\n",
       "    (1): Module(\n",
       "      (block): ModuleList(\n",
       "        (0-1): 2 x ResnetBlock(\n",
       "          (norm1): GroupNorm(32, 512, eps=1e-06, affine=True)\n",
       "          (conv1): Conv2d(512, 256, kernel_size=(3, 3), stride=(1, 1), padding=(1, 1))\n",
       "          (temb_proj): Linear(in_features=512, out_features=256, bias=True)\n",
       "          (norm2): GroupNorm(32, 256, eps=1e-06, affine=True)\n",
       "          (dropout): Dropout(p=0.1, inplace=False)\n",
       "          (conv2): Conv2d(256, 256, kernel_size=(3, 3), stride=(1, 1), padding=(1, 1))\n",
       "          (nin_shortcut): Conv2d(512, 256, kernel_size=(1, 1), stride=(1, 1))\n",
       "        )\n",
       "        (2): ResnetBlock(\n",
       "          (norm1): GroupNorm(32, 384, eps=1e-06, affine=True)\n",
       "          (conv1): Conv2d(384, 256, kernel_size=(3, 3), stride=(1, 1), padding=(1, 1))\n",
       "          (temb_proj): Linear(in_features=512, out_features=256, bias=True)\n",
       "          (norm2): GroupNorm(32, 256, eps=1e-06, affine=True)\n",
       "          (dropout): Dropout(p=0.1, inplace=False)\n",
       "          (conv2): Conv2d(256, 256, kernel_size=(3, 3), stride=(1, 1), padding=(1, 1))\n",
       "          (nin_shortcut): Conv2d(384, 256, kernel_size=(1, 1), stride=(1, 1))\n",
       "        )\n",
       "      )\n",
       "      (attn): ModuleList()\n",
       "      (upsample): Upsample(\n",
       "        (conv): Conv2d(256, 256, kernel_size=(3, 3), stride=(1, 1), padding=(1, 1))\n",
       "      )\n",
       "    )\n",
       "    (2): Module(\n",
       "      (block): ModuleList(\n",
       "        (0-2): 3 x ResnetBlock(\n",
       "          (norm1): GroupNorm(32, 512, eps=1e-06, affine=True)\n",
       "          (conv1): Conv2d(512, 256, kernel_size=(3, 3), stride=(1, 1), padding=(1, 1))\n",
       "          (temb_proj): Linear(in_features=512, out_features=256, bias=True)\n",
       "          (norm2): GroupNorm(32, 256, eps=1e-06, affine=True)\n",
       "          (dropout): Dropout(p=0.1, inplace=False)\n",
       "          (conv2): Conv2d(256, 256, kernel_size=(3, 3), stride=(1, 1), padding=(1, 1))\n",
       "          (nin_shortcut): Conv2d(512, 256, kernel_size=(1, 1), stride=(1, 1))\n",
       "        )\n",
       "      )\n",
       "      (attn): ModuleList(\n",
       "        (0-2): 3 x AttnBlock(\n",
       "          (norm): GroupNorm(32, 256, eps=1e-06, affine=True)\n",
       "          (q): Conv2d(256, 256, kernel_size=(1, 1), stride=(1, 1))\n",
       "          (k): Conv2d(256, 256, kernel_size=(1, 1), stride=(1, 1))\n",
       "          (v): Conv2d(256, 256, kernel_size=(1, 1), stride=(1, 1))\n",
       "          (proj_out): Conv2d(256, 256, kernel_size=(1, 1), stride=(1, 1))\n",
       "        )\n",
       "      )\n",
       "      (upsample): Upsample(\n",
       "        (conv): Conv2d(256, 256, kernel_size=(3, 3), stride=(1, 1), padding=(1, 1))\n",
       "      )\n",
       "    )\n",
       "    (3): Module(\n",
       "      (block): ModuleList(\n",
       "        (0): ResnetBlock(\n",
       "          (norm1): GroupNorm(32, 768, eps=1e-06, affine=True)\n",
       "          (conv1): Conv2d(768, 256, kernel_size=(3, 3), stride=(1, 1), padding=(1, 1))\n",
       "          (temb_proj): Linear(in_features=512, out_features=256, bias=True)\n",
       "          (norm2): GroupNorm(32, 256, eps=1e-06, affine=True)\n",
       "          (dropout): Dropout(p=0.1, inplace=False)\n",
       "          (conv2): Conv2d(256, 256, kernel_size=(3, 3), stride=(1, 1), padding=(1, 1))\n",
       "          (nin_shortcut): Conv2d(768, 256, kernel_size=(1, 1), stride=(1, 1))\n",
       "        )\n",
       "        (1-2): 2 x ResnetBlock(\n",
       "          (norm1): GroupNorm(32, 512, eps=1e-06, affine=True)\n",
       "          (conv1): Conv2d(512, 256, kernel_size=(3, 3), stride=(1, 1), padding=(1, 1))\n",
       "          (temb_proj): Linear(in_features=512, out_features=256, bias=True)\n",
       "          (norm2): GroupNorm(32, 256, eps=1e-06, affine=True)\n",
       "          (dropout): Dropout(p=0.1, inplace=False)\n",
       "          (conv2): Conv2d(256, 256, kernel_size=(3, 3), stride=(1, 1), padding=(1, 1))\n",
       "          (nin_shortcut): Conv2d(512, 256, kernel_size=(1, 1), stride=(1, 1))\n",
       "        )\n",
       "      )\n",
       "      (attn): ModuleList()\n",
       "      (upsample): Upsample(\n",
       "        (conv): Conv2d(256, 256, kernel_size=(3, 3), stride=(1, 1), padding=(1, 1))\n",
       "      )\n",
       "    )\n",
       "    (4): Module(\n",
       "      (block): ModuleList(\n",
       "        (0-1): 2 x ResnetBlock(\n",
       "          (norm1): GroupNorm(32, 1024, eps=1e-06, affine=True)\n",
       "          (conv1): Conv2d(1024, 512, kernel_size=(3, 3), stride=(1, 1), padding=(1, 1))\n",
       "          (temb_proj): Linear(in_features=512, out_features=512, bias=True)\n",
       "          (norm2): GroupNorm(32, 512, eps=1e-06, affine=True)\n",
       "          (dropout): Dropout(p=0.1, inplace=False)\n",
       "          (conv2): Conv2d(512, 512, kernel_size=(3, 3), stride=(1, 1), padding=(1, 1))\n",
       "          (nin_shortcut): Conv2d(1024, 512, kernel_size=(1, 1), stride=(1, 1))\n",
       "        )\n",
       "        (2): ResnetBlock(\n",
       "          (norm1): GroupNorm(32, 768, eps=1e-06, affine=True)\n",
       "          (conv1): Conv2d(768, 512, kernel_size=(3, 3), stride=(1, 1), padding=(1, 1))\n",
       "          (temb_proj): Linear(in_features=512, out_features=512, bias=True)\n",
       "          (norm2): GroupNorm(32, 512, eps=1e-06, affine=True)\n",
       "          (dropout): Dropout(p=0.1, inplace=False)\n",
       "          (conv2): Conv2d(512, 512, kernel_size=(3, 3), stride=(1, 1), padding=(1, 1))\n",
       "          (nin_shortcut): Conv2d(768, 512, kernel_size=(1, 1), stride=(1, 1))\n",
       "        )\n",
       "      )\n",
       "      (attn): ModuleList()\n",
       "      (upsample): Upsample(\n",
       "        (conv): Conv2d(512, 512, kernel_size=(3, 3), stride=(1, 1), padding=(1, 1))\n",
       "      )\n",
       "    )\n",
       "  )\n",
       "  (norm_out): GroupNorm(32, 128, eps=1e-06, affine=True)\n",
       "  (conv_out): Conv2d(128, 3, kernel_size=(3, 3), stride=(1, 1), padding=(1, 1))\n",
       ")"
      ]
     },
     "execution_count": 70,
     "metadata": {},
     "output_type": "execute_result"
    }
   ],
   "source": [
    "state_dict = torch.load('ckpt.pth', map_location=\"cuda:0\")[0]\n",
    "# create new OrderedDict that does not contain `module.`\n",
    "from collections import OrderedDict\n",
    "new_state_dict = OrderedDict()\n",
    "for k, v in state_dict.items():\n",
    "    name = k[7:] # remove `module.`\n",
    "    new_state_dict[name] = v\n",
    "# load params\n",
    "model.load_state_dict(new_state_dict)\n",
    "model.to(device)"
   ]
  },
  {
   "cell_type": "code",
   "execution_count": 71,
   "metadata": {},
   "outputs": [
    {
     "name": "stdout",
     "output_type": "stream",
     "text": [
      "Model loaded\n"
     ]
    }
   ],
   "source": [
    "model.eval()\n",
    "print(\"Model loaded\")"
   ]
  },
  {
   "cell_type": "code",
   "execution_count": 76,
   "metadata": {},
   "outputs": [],
   "source": [
    "n = 50\n",
    "x = torch.randn(\n",
    "                    n,\n",
    "                    config.data.channels,\n",
    "                    config.data.image_size,\n",
    "                    config.data.image_size,\n",
    "                    #device=device,\n",
    "                )"
   ]
  },
  {
   "cell_type": "code",
   "execution_count": 77,
   "metadata": {},
   "outputs": [],
   "source": [
    "torch.no_grad()\n",
    "\n",
    "a, b = model(x.to(device), torch.ones(n).to(device))\n",
    "#a.shape"
   ]
  },
  {
   "cell_type": "code",
   "execution_count": 78,
   "metadata": {},
   "outputs": [
    {
     "name": "stdout",
     "output_type": "stream",
     "text": [
      "torch.Size([50, 3, 64, 64])\n",
      "torch.Size([50, 512, 4, 4])\n"
     ]
    }
   ],
   "source": [
    "print(a.shape)\n",
    "print(b.shape)"
   ]
  },
  {
   "cell_type": "code",
   "execution_count": 80,
   "metadata": {},
   "outputs": [
    {
     "name": "stderr",
     "output_type": "stream",
     "text": [
      "Clipping input data to the valid range for imshow with RGB data ([0..1] for floats or [0..255] for integers).\n"
     ]
    },
    {
     "data": {
      "image/png": "[encoded data removed]",
      "text/plain": [
       "<Figure size 640x480 with 1 Axes>"
      ]
     },
     "metadata": {},
     "output_type": "display_data"
    },
    {
     "name": "stdout",
     "output_type": "stream",
     "text": [
      "16381.32\n"
     ]
    }
   ],
   "source": [
    "image1 = a[0].cpu().detach().numpy().transpose(1,2,0)\n",
    "plt.imshow(image1)\n",
    "plt.show()\n",
    "print(np.abs(image1).sum())"
   ]
  },
  {
   "cell_type": "code",
   "execution_count": 81,
   "metadata": {},
   "outputs": [
    {
     "name": "stdout",
     "output_type": "stream",
     "text": [
      "X has shape:  (50, 8192)\n",
      "[2.99951956e-02 2.93150470e-02 2.88503394e-02 2.72826459e-02\n",
      " 2.69877836e-02 2.57661492e-02 2.53822673e-02 2.48199236e-02\n",
      " 2.44881362e-02 2.42867470e-02 2.42014211e-02 2.34943610e-02\n",
      " 2.32950728e-02 2.30213124e-02 2.25833561e-02 2.25293674e-02\n",
      " 2.20325552e-02 2.17515249e-02 2.15444770e-02 2.11739168e-02\n",
      " 2.08783969e-02 2.06939392e-02 2.04758625e-02 2.01733690e-02\n",
      " 2.01526806e-02 1.98475868e-02 1.94549374e-02 1.91337857e-02\n",
      " 1.89207010e-02 1.87800787e-02 1.83809176e-02 1.81659721e-02\n",
      " 1.78171936e-02 1.75998937e-02 1.75610650e-02 1.72389578e-02\n",
      " 1.69506297e-02 1.68730095e-02 1.64894145e-02 1.63591709e-02\n",
      " 1.60772391e-02 1.56285614e-02 1.55790728e-02 1.54182157e-02\n",
      " 1.50751024e-02 1.47194825e-02 1.45728868e-02 1.43474499e-02\n",
      " 1.38328392e-02 2.85361800e-16]\n"
     ]
    }
   ],
   "source": [
    "from sklearn.decomposition import PCA\n",
    "from sklearn.preprocessing import StandardScaler\n",
    "\n",
    "data = b.cpu().detach().numpy()\n",
    "data.resize(n, b.shape[1]*b.shape[2]*b.shape[3])\n",
    "print('X has shape: ', data.shape)\n",
    "\n",
    "\n",
    "scaler = StandardScaler()\n",
    "X_standardized = scaler.fit_transform(data)\n",
    "pca = PCA(n_components=50)\n",
    "pca.fit(X_standardized)\n",
    "print(pca.explained_variance_ratio_)"
   ]
  },
  {
   "cell_type": "code",
   "execution_count": 82,
   "metadata": {},
   "outputs": [
    {
     "data": {
      "text/plain": [
       "array([1.1084236e+02, 1.0957847e+02, 1.0870647e+02, 1.0571172e+02,\n",
       "       1.0513892e+02, 1.0273175e+02, 1.0196359e+02, 1.0082777e+02,\n",
       "       1.0015157e+02, 9.9738907e+01, 9.9563545e+01, 9.8098358e+01,\n",
       "       9.7681419e+01, 9.7105751e+01, 9.6177650e+01, 9.6062614e+01,\n",
       "       9.4997536e+01, 9.4389740e+01, 9.3939423e+01, 9.3128052e+01,\n",
       "       9.2475883e+01, 9.2066475e+01, 9.1580078e+01, 9.0901100e+01,\n",
       "       9.0854477e+01, 9.0164124e+01, 8.9267799e+01, 8.8527946e+01,\n",
       "       8.8033615e+01, 8.7705864e+01, 8.6768784e+01, 8.6259956e+01,\n",
       "       8.5427872e+01, 8.4905327e+01, 8.4811615e+01, 8.4030205e+01,\n",
       "       8.3324524e+01, 8.3133530e+01, 8.2183105e+01, 8.1857895e+01,\n",
       "       8.1149467e+01, 8.0009109e+01, 7.9882332e+01, 7.9468857e+01,\n",
       "       7.8579643e+01, 7.7647270e+01, 7.7259644e+01, 7.6659729e+01,\n",
       "       7.5272369e+01, 1.0811298e-05], dtype=float32)"
      ]
     },
     "execution_count": 82,
     "metadata": {},
     "output_type": "execute_result"
    }
   ],
   "source": [
    "pca.singular_values_"
   ]
  },
  {
   "cell_type": "code",
   "execution_count": 83,
   "metadata": {},
   "outputs": [
    {
     "name": "stdout",
     "output_type": "stream",
     "text": [
      "(50, 50)\n",
      "[20.974722  14.517962  -9.924739  -2.9757018 18.239874 ]\n",
      "[ 31.462082   21.776943  -14.887108   -4.4635525  27.35981  ]\n",
      "[ 9.372487  14.018372  18.05909    5.691473   0.9065343]\n",
      "(50, 8192)\n",
      "[ 0.6327655   1.137396    1.4769106   0.07951427 -0.36333084]\n"
     ]
    }
   ],
   "source": [
    "reduced_data = pca.transform(X_standardized)\n",
    "print(reduced_data.shape)\n",
    "print(reduced_data[:5, 0])\n",
    "\n",
    "reduced_data[:, 0] = reduced_data[:, 0] * 1.5\n",
    "print(reduced_data[:5, 0])\n",
    "\n",
    "\n",
    "orgi_data = pca.inverse_transform(reduced_data)\n",
    "print(data[:5, 0])\n",
    "print(orgi_data.shape)\n",
    "print(orgi_data[:5, 0])"
   ]
  },
  {
   "cell_type": "code",
   "execution_count": 84,
   "metadata": {},
   "outputs": [
    {
     "name": "stdout",
     "output_type": "stream",
     "text": [
      "(50, 8192)\n",
      "[ 0.01168095 -0.00179645 -0.01168443 -0.01509783]\n"
     ]
    }
   ],
   "source": [
    "print(pca.components_.shape)\n",
    "print(pca.components_[1:5, 0])"
   ]
  },
  {
   "cell_type": "code",
   "execution_count": null,
   "metadata": {},
   "outputs": [],
   "source": []
  },
  {
   "cell_type": "code",
   "execution_count": 47,
   "metadata": {},
   "outputs": [
    {
     "data": {
      "text/plain": [
       "array([1, 4, 7])"
      ]
     },
     "execution_count": 47,
     "metadata": {},
     "output_type": "execute_result"
    }
   ],
   "source": [
    "a = np.array([[1, 2, 3], [4, 5, 6], [7, 8, 9]])\n",
    "a[:3, 0]"
   ]
  },
  {
   "cell_type": "code",
   "execution_count": null,
   "metadata": {},
   "outputs": [],
   "source": []
  }
 ],
 "metadata": {
  "kernelspec": {
   "display_name": "Asyrp",
   "language": "python",
   "name": "python3"
  },
  "language_info": {
   "codemirror_mode": {
    "name": "ipython",
    "version": 3
   },
   "file_extension": ".py",
   "mimetype": "text/x-python",
   "name": "python",
   "nbconvert_exporter": "python",
   "pygments_lexer": "ipython3",
   "version": "3.11.5"
  }
 },
 "nbformat": 4,
 "nbformat_minor": 2
}
