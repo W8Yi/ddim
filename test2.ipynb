{
 "cells": [
  {
   "cell_type": "code",
   "execution_count": 7,
   "metadata": {},
   "outputs": [
    {
     "name": "stdout",
     "output_type": "stream",
     "text": [
      "tensor([1.], device='mps:0')\n"
     ]
    }
   ],
   "source": [
    "import torch\n",
    "if torch.backends.mps.is_available():\n",
    "    mps_device = torch.device(\"mps\")\n",
    "    x = torch.ones(1, device=mps_device)\n",
    "    print (x)\n",
    "else:\n",
    "    print (\"MPS device not found.\")"
   ]
  },
  {
   "cell_type": "code",
   "execution_count": 8,
   "metadata": {},
   "outputs": [],
   "source": [
    "from runners.diffusion import *\n",
    "import numpy as np\n",
    "import math"
   ]
  },
  {
   "cell_type": "code",
   "execution_count": 13,
   "metadata": {},
   "outputs": [
    {
     "data": {
      "text/plain": [
       "tensor([[ 8.4147e-01,  1.0000e-04,  5.4030e-01,  1.0000e+00],\n",
       "        [ 9.0930e-01,  2.0000e-04, -4.1615e-01,  1.0000e+00],\n",
       "        [ 1.4112e-01,  3.0000e-04, -9.8999e-01,  1.0000e+00],\n",
       "        [-7.5680e-01,  4.0000e-04, -6.5364e-01,  1.0000e+00],\n",
       "        [-9.5892e-01,  5.0000e-04,  2.8366e-01,  1.0000e+00]])"
      ]
     },
     "execution_count": 13,
     "metadata": {},
     "output_type": "execute_result"
    }
   ],
   "source": [
    "def get_timestep_embedding(timesteps, embedding_dim):\n",
    "    \"\"\"\n",
    "    This matches the implementation in Denoising Diffusion Probabilistic Models:\n",
    "    From Fairseq.\n",
    "    Build sinusoidal embeddings.\n",
    "    This matches the implementation in tensor2tensor, but differs slightly\n",
    "    from the description in Section 3.5 of \"Attention Is All You Need\".\n",
    "    \"\"\"\n",
    "    assert len(timesteps.shape) == 1\n",
    "\n",
    "    half_dim = embedding_dim // 2\n",
    "    emb = math.log(10000) / (half_dim - 1)\n",
    "    emb = torch.exp(torch.arange(half_dim, dtype=torch.float32) * -emb)\n",
    "    #emb = emb.to(device=timesteps.device)\n",
    "    emb = timesteps.float()[:, None] * emb[None, :]\n",
    "    emb = torch.cat([torch.sin(emb), torch.cos(emb)], dim=1)\n",
    "    if embedding_dim % 2 == 1:  # zero pad\n",
    "        emb = torch.nn.functional.pad(emb, (0, 1, 0, 0))\n",
    "    return emb\n",
    "\n",
    "get_timestep_embedding(torch.tensor([1, 2, 3, 4, 5]), 4)"
   ]
  },
  {
   "cell_type": "code",
   "execution_count": 17,
   "metadata": {},
   "outputs": [
    {
     "name": "stdout",
     "output_type": "stream",
     "text": [
      "[[[0 1]]\n",
      "\n",
      " [[2 3]]\n",
      "\n",
      " [[0 5]]]\n",
      "[[[0 1]\n",
      "  [2 3]\n",
      "  [0 5]]]\n"
     ]
    }
   ],
   "source": [
    "arr = np.array([[0,1],[2,3],[0,5]])\n",
    "print(arr[:, None])\n",
    "print(arr[None, :])"
   ]
  },
  {
   "cell_type": "code",
   "execution_count": 42,
   "metadata": {},
   "outputs": [
    {
     "name": "stdout",
     "output_type": "stream",
     "text": [
      "(10,)\n",
      "tensor([0.9800, 0.9711, 0.9622, 0.9533, 0.9444, 0.9356, 0.9267, 0.9178, 0.9089,\n",
      "        0.9000], dtype=torch.float64)\n",
      "tensor([0.9800, 0.9517, 0.9157, 0.8730, 0.8245, 0.7714, 0.7148, 0.6560, 0.5963,\n",
      "        0.5366], dtype=torch.float64)\n",
      "tensor([1.0000, 0.9800, 0.9517, 0.9157, 0.8730, 0.8245, 0.7714, 0.7148, 0.6560,\n",
      "        0.5963], dtype=torch.float64)\n",
      "posterior_variance is  tensor([0.0000, 0.0120, 0.0217, 0.0310, 0.0402, 0.0495, 0.0588, 0.0682, 0.0776,\n",
      "        0.0871], dtype=torch.float64)\n",
      "tensor([-3.9120, -3.5443, -3.2760, -3.0647, -2.8904, -2.7420, -2.6127, -2.4983,\n",
      "        -2.3957, -2.3026], dtype=torch.float64)\n"
     ]
    }
   ],
   "source": [
    "betas = get_beta_schedule(\n",
    "    beta_schedule=\"linear\",\n",
    "    beta_start=0.02,\n",
    "    beta_end=0.1,\n",
    "    num_diffusion_timesteps=10,\n",
    "    )\n",
    "print(betas.shape)\n",
    "betas.shape[0]\n",
    "\n",
    "betas = torch.from_numpy(betas)\n",
    "num_timesteps = betas.shape[0]\n",
    "\n",
    "alphas = 1.0 - betas\n",
    "alphas_cumprod = alphas.cumprod(dim=0)\n",
    "alphas_cumprod_prev = torch.cat(\n",
    "    [torch.ones(1), alphas_cumprod[:-1]], dim=0\n",
    ")\n",
    "\n",
    "posterior_variance = (\n",
    "            betas * (1.0 - alphas_cumprod_prev) / (1.0 - alphas_cumprod)\n",
    "        )\n",
    "\n",
    "print(alphas)\n",
    "print(alphas_cumprod)\n",
    "print(alphas_cumprod_prev)  \n",
    "print(\"posterior_variance is \", posterior_variance)\n",
    "print(betas.log())"
   ]
  },
  {
   "cell_type": "code",
   "execution_count": 53,
   "metadata": {},
   "outputs": [
    {
     "name": "stdout",
     "output_type": "stream",
     "text": [
      "t is tensor([2., 2., 2., 2., 2., 2., 2., 2.])\n",
      "the original betas is  tensor([0.0200, 0.0289, 0.0378, 0.0467, 0.0556, 0.0644, 0.0733, 0.0822, 0.0911,\n",
      "        0.1000], dtype=torch.float64)\n",
      "tensor([1.0000, 0.9800, 0.9517, 0.9157, 0.8730, 0.8245, 0.7714, 0.7148, 0.6560,\n",
      "        0.5963, 0.5366], dtype=torch.float64)\n",
      "tensor([0.9157, 0.9157, 0.9157, 0.9157, 0.9157, 0.9157, 0.9157, 0.9157],\n",
      "       dtype=torch.float64)\n",
      "tensor([[[[0.9157]]],\n",
      "\n",
      "\n",
      "        [[[0.9157]]],\n",
      "\n",
      "\n",
      "        [[[0.9157]]],\n",
      "\n",
      "\n",
      "        [[[0.9157]]],\n",
      "\n",
      "\n",
      "        [[[0.9157]]],\n",
      "\n",
      "\n",
      "        [[[0.9157]]],\n",
      "\n",
      "\n",
      "        [[[0.9157]]],\n",
      "\n",
      "\n",
      "        [[[0.9157]]]], dtype=torch.float64)\n",
      "the al is  tensor([[[[0.9157]]],\n",
      "\n",
      "\n",
      "        [[[0.9157]]],\n",
      "\n",
      "\n",
      "        [[[0.9157]]],\n",
      "\n",
      "\n",
      "        [[[0.9157]]],\n",
      "\n",
      "\n",
      "        [[[0.9157]]],\n",
      "\n",
      "\n",
      "        [[[0.9157]]],\n",
      "\n",
      "\n",
      "        [[[0.9157]]],\n",
      "\n",
      "\n",
      "        [[[0.9157]]]], dtype=torch.float64)\n"
     ]
    }
   ],
   "source": [
    "def compute_alpha(beta, t):\n",
    "    beta = torch.cat([torch.zeros(1), beta], dim=0)\n",
    "    a = (1 - beta).cumprod(dim=0)\n",
    "    print(a)\n",
    "    a = a.index_select(0, t + 1)\n",
    "    print(a)\n",
    "    a = a.view(-1, 1, 1, 1)\n",
    "    print(a)\n",
    "    return a\n",
    "\n",
    "t = (torch.ones(8) * 2)\n",
    "print(\"t is\", t)\n",
    "print(\"the original betas is \", betas)\n",
    "al = compute_alpha(betas, t.long())\n",
    "print(\"the al is \", al)"
   ]
  }
 ],
 "metadata": {
  "kernelspec": {
   "display_name": "test",
   "language": "python",
   "name": "python3"
  },
  "language_info": {
   "codemirror_mode": {
    "name": "ipython",
    "version": 3
   },
   "file_extension": ".py",
   "mimetype": "text/x-python",
   "name": "python",
   "nbconvert_exporter": "python",
   "pygments_lexer": "ipython3",
   "version": "3.11.7"
  }
 },
 "nbformat": 4,
 "nbformat_minor": 2
}
